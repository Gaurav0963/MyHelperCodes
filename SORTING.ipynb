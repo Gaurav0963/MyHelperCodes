{
 "cells": [
  {
   "cell_type": "code",
   "execution_count": 22,
   "id": "c6f81c55",
   "metadata": {},
   "outputs": [
    {
     "name": "stdout",
     "output_type": "stream",
     "text": [
      "Enter list of numbers:\n",
      " 8 7 6 4 9 5 1 3 2\n",
      "\n",
      "Unsorted Array:  [8, 7, 6, 4, 9, 5, 1, 3, 2]\n",
      "  Sorted Array:  [1, 2, 3, 4, 5, 6, 7, 8, 9]\n"
     ]
    }
   ],
   "source": [
    "# SELECTION SORT\n",
    "ar=list(map(int, input(\"Enter list of numbers:\\n \").split()))\n",
    "print(\"\\nUnsorted Array: \",ar)\n",
    "for i in range(len(ar)-1):\n",
    "    pos=i\n",
    "    temp=ar[i]\n",
    "    for j in range(i+1,len(ar)):\n",
    "        if ar[j]<ar[pos]:\n",
    "            pos=j   \n",
    "\n",
    "    ar[i]=ar[pos]\n",
    "    ar[pos]=temp\n",
    "print(\"  Sorted Array: \",ar)"
   ]
  },
  {
   "cell_type": "code",
   "execution_count": 5,
   "id": "b5652ce3",
   "metadata": {},
   "outputs": [
    {
     "name": "stdout",
     "output_type": "stream",
     "text": [
      "Enter Number: 15\n",
      "15! = 1307674368000\n"
     ]
    }
   ],
   "source": [
    "# RECURSIVE FACTORIAL FUNCTION\n",
    "def fact(n):\n",
    "    if n==0:\n",
    "        return 1      \n",
    "    return fact(n-1)*n\n",
    "\n",
    "a=int(input(\"Enter Number: \"))\n",
    "x=fact(a)\n",
    "print(\"{}! = {}\".format(a,x))"
   ]
  },
  {
   "cell_type": "code",
   "execution_count": 9,
   "id": "d6b445ed",
   "metadata": {},
   "outputs": [
    {
     "name": "stdout",
     "output_type": "stream",
     "text": [
      "Enter Elements: 2 3 6 5 4 1\n",
      "\n",
      "Unsorted Array:  [2, 3, 6, 5, 4, 1]\n",
      " Sorting Array:  2 3 6 5 4 1\n",
      " Sorting Array:  2 3 6 5 4 1\n",
      " Sorting Array:  2 3 5 6 4 1\n",
      " Sorting Array:  2 3 4 5 6 1\n",
      " Sorting Array:  1 2 3 4 5 6\n",
      "  Sorted Array:  [1, 2, 3, 4, 5, 6]\n"
     ]
    }
   ],
   "source": [
    "# INSERTION SORT\n",
    "ar=list(map(int, input(\"Enter Elements: \").split()))\n",
    "print(\"\\nUnsorted Array: \",ar)\n",
    "for i in range(1,len(ar)):\n",
    "    temp=ar[i]\n",
    "    j=i\n",
    "    while j>0 and ar[j-1]>temp:\n",
    "        ar[j]=ar[j-1]\n",
    "        j-=1\n",
    "    ar[j]=temp\n",
    "#     print(\" Sorting Array: \",*ar)\n",
    "print(\"  Sorted Array: \",ar)"
   ]
  },
  {
   "cell_type": "code",
   "execution_count": 3,
   "id": "903eab36",
   "metadata": {},
   "outputs": [
    {
     "name": "stdout",
     "output_type": "stream",
     "text": [
      "2 3 6 5 4 7 8 9 1\n",
      "\n",
      "Sorted Array:  1 2 3 4 5 6 7 8 9\n"
     ]
    }
   ],
   "source": [
    "def bubbleSort(ar,l):\n",
    "    for passes in range(l-1,0,-1):\n",
    "        for i in range(passes):\n",
    "            if ar[i] > ar[i+1]:\n",
    "                temp=ar[i]\n",
    "                ar[i]=ar[i+1]\n",
    "                ar[i+1]=temp\n",
    "    return ar\n",
    "\n",
    "array=list(map(int,input().split()))\n",
    "array_len=len(array)\n",
    "result=bubbleSort(array,array_len)\n",
    "print(\"\\nSorted Array: \",*result)"
   ]
  },
  {
   "cell_type": "code",
   "execution_count": null,
   "id": "c1b33c97",
   "metadata": {},
   "outputs": [],
   "source": [
    "#Time Complexity : O(n log(n))\n",
    "def shellSort(ar,n):  \n",
    "    gap=n//2\n",
    "    while gap > 0:\n",
    "        i = gap\n",
    "        while i < n:\n",
    "            temp = ar[i]\n",
    "            j = i - gap\n",
    "            while j >= 0 and ar[j] > temp:\n",
    "                ar[j+gap] = ar[j]\n",
    "                j = j - gap\n",
    "            ar[j+gap] = temp\n",
    "            i+=1\n",
    "        gap=gap//2\n",
    "    return ar\n",
    "    \n",
    "array=list(map(int,input(\"Input Array: \").split()))\n",
    "ar_len=len(array)\n",
    "result=shellSort(array, ar_len)\n",
    "print(\"\\nSoted Array:\",*result)"
   ]
  },
  {
   "cell_type": "code",
   "execution_count": 19,
   "id": "e0829d0f",
   "metadata": {},
   "outputs": [
    {
     "name": "stdout",
     "output_type": "stream",
     "text": [
      " Input Array: 5 1 4 7 3 2\n",
      "Sorted Array: 1 2 3 4 5 7\n"
     ]
    }
   ],
   "source": [
    "def MergeSort(A, left, right):\n",
    "    if left < right:\n",
    "        mid = (left + right) // 2\n",
    "        MergeSort(A, left, mid)\n",
    "        MergeSort(A, mid+1, right)\n",
    "        merge(A, left, mid, right)\n",
    "\n",
    "def merge(A, left, mid, right):\n",
    "    i = left\n",
    "    j = mid+1\n",
    "    k = left\n",
    "    B = [0] * (right+1)\n",
    "    while i <= mid and j <= right:\n",
    "        if A[i] < A[j]:\n",
    "            B[k] = A[i]\n",
    "            i = i + 1\n",
    "        else:\n",
    "            B[k] = A[j]\n",
    "            j = j + 1\n",
    "        k = k + 1\n",
    "\n",
    "    while i <= mid:\n",
    "        B[k] = A[i]\n",
    "        i = i + 1\n",
    "        k = k + 1\n",
    "\n",
    "    while j <= right:\n",
    "        B[k] = A[j]\n",
    "        j = j + 1\n",
    "        k = k + 1\n",
    "    for x in range(left,right+1):\n",
    "        A[x] = B[x]\n",
    "\n",
    "A = list(map(int,input(' Input Array: ').split()))\n",
    "MergeSort(A,0,len(A)-1)\n",
    "print('Sorted Array:',*A)\n"
   ]
  }
 ],
 "metadata": {
  "kernelspec": {
   "display_name": "Python 3 (ipykernel)",
   "language": "python",
   "name": "python3"
  },
  "language_info": {
   "codemirror_mode": {
    "name": "ipython",
    "version": 3
   },
   "file_extension": ".py",
   "mimetype": "text/x-python",
   "name": "python",
   "nbconvert_exporter": "python",
   "pygments_lexer": "ipython3",
   "version": "3.9.12"
  }
 },
 "nbformat": 4,
 "nbformat_minor": 5
}
